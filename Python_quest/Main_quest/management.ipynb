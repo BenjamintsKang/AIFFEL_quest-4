{
  "nbformat": 4,
  "nbformat_minor": 0,
  "metadata": {
    "colab": {
      "provenance": [],
      "authorship_tag": "ABX9TyN7QseEBpZuT9W7okrq6bDm",
      "include_colab_link": true
    },
    "kernelspec": {
      "name": "python3",
      "display_name": "Python 3"
    },
    "language_info": {
      "name": "python"
    }
  },
  "cells": [
    {
      "cell_type": "markdown",
      "metadata": {
        "id": "view-in-github",
        "colab_type": "text"
      },
      "source": [
        "<a href=\"https://colab.research.google.com/github/Sun970324/AIFFEL_quest/blob/main/Python_quest/Main_quest/management.ipynb\" target=\"_parent\"><img src=\"https://colab.research.google.com/assets/colab-badge.svg\" alt=\"Open In Colab\"/></a>"
      ]
    },
    {
      "cell_type": "code",
      "execution_count": 12,
      "metadata": {
        "id": "tiLqgNBAhE0_"
      },
      "outputs": [],
      "source": [
        "import random as r\n",
        "\n",
        "# 학번 생성 메서드\n",
        "def generate_student_id(admission_year, class_number, course_name, count):\n",
        "    year = str(admission_year)[-2:]\n",
        "    class_num = f\"{class_number:02d}\"\n",
        "\n",
        "    if course_name.lower() == '리서치':\n",
        "        course_type = '1'\n",
        "    elif course_name.lower() == '코어':\n",
        "        course_type = '2'\n",
        "\n",
        "    index = count\n",
        "    serial_num = f\"{index:02d}\"\n",
        "    return f\"{year}{class_num}{course_type}{serial_num}\""
      ]
    },
    {
      "cell_type": "code",
      "source": [
        "# Aiffel 클래스 생성\n",
        "class Aiffel:\n",
        "    students = []\n",
        "    count = 0\n",
        "    def __init__(self, student_name, admission_year, class_number, course_name):\n",
        "        self.이름 = student_name\n",
        "        self.학번 = generate_student_id(admission_year, class_number, course_name, Aiffel.count)\n",
        "        self.점수 = 0\n",
        "        self.페널티 = 0\n",
        "        self.총점 = self.점수 - self.페널티\n",
        "        Aiffel.count += 1\n",
        "        Aiffel.students.append(self.__dict__)\n",
        "\n",
        "    # 점수 수정 메서드\n",
        "    def set_score(self):\n",
        "        try:\n",
        "            print(f\"{self.이름}, 현재점수: {self.총점}\")\n",
        "            value = int(input(f'{self.이름}에게 부여할 점수 입력: '))\n",
        "            if value <= 0:\n",
        "              raise Exception(\"점수는 1점 이상 입력 가능합니다.\")\n",
        "        except Exception as e:\n",
        "            print(e)\n",
        "        except:\n",
        "            print(\"잘못된 입력입니다.\")\n",
        "        else:\n",
        "            self.점수 = value\n",
        "            self.총점 = self.점수 - self.페널티\n",
        "\n",
        "    #페널티 수정 메서드\n",
        "    def set_penalty(self):\n",
        "        try:\n",
        "            print(f\"{self.이름}, 현재점수: {self.총점}\")\n",
        "            value = int(input(f'{self.이름}에게 부여할 패널티점수 입력: '))\n",
        "            if value <= 0:\n",
        "              raise Exception(\"점수는 1점 이상 입력 가능합니다.\")\n",
        "        except Exception as e:\n",
        "            print(e)\n",
        "        except:\n",
        "            print(\"잘못된 입력입니다.\")\n",
        "        else:\n",
        "            self.페널티 = value\n",
        "            self.총점 = self.점수 - self.페널티\n",
        "\n",
        "    # 학생 정보 출력\n",
        "    def student_info(self):\n",
        "        print(f\"'이름':{self.이름}, '학번':{self.학번}, '점수':{self.점수}, '페널티':{self.페널티}, '총점': {self.총점}\")\n",
        "\n",
        "    # 모든 학생 정보 출력, 정렬 가능\n",
        "    @classmethod\n",
        "    def get_all_students(cls, operator):\n",
        "        print(operator)\n",
        "        sorted_students = sorted(cls.students, key=lambda x: x[operator], reverse=True)\n",
        "        for student in sorted_students:\n",
        "            print(student)\n",
        "\n",
        "    # 학생정보 삭제\n",
        "    @classmethod\n",
        "    def delete_student(cls):\n",
        "      print(cls.students)\n",
        "      value = (input(\"삭제할 학번을 입력하세요: \"))\n",
        "      cls.students = list(filter(lambda student: student['학번'] != value, cls.students))\n",
        "      print(cls.students)\n",
        "\n",
        "    # 그룹핑 메서드\n",
        "    @classmethod\n",
        "    def create_group(cls, value):\n",
        "      name_list = [student['이름'] for student in cls.students]\n",
        "      r.shuffle(name_list)\n",
        "      teams = {}\n",
        "      team_id = 0\n",
        "      for i in range(0, len(name_list), value):\n",
        "        team = name_list[i:i + value]\n",
        "        team_id +=1\n",
        "        teams[f'{team_id}팀'] = team\n",
        "      print(teams)"
      ],
      "metadata": {
        "id": "0GVJFB5shO0H"
      },
      "execution_count": 16,
      "outputs": []
    },
    {
      "cell_type": "code",
      "source": [
        "students = [\n",
        "    Aiffel(\"해리 포터\", 2024, 31, \"코어\"),\n",
        "    Aiffel(\"아이언맨\", 2024, 31, \"코어\"),\n",
        "    Aiffel(\"잭 스패로우\", 2024, 31, \"코어\"),\n",
        "]\n",
        "\n",
        "for student in students:\n",
        "  student.set_score()\n",
        "  student.set_penalty()\n",
        "\n",
        "Aiffel.get_all_students('점수')\n",
        "Aiffel.get_all_students('페널티')\n",
        "Aiffel.get_all_students('총점')\n",
        "\n",
        "Aiffel.create_group(2)"
      ],
      "metadata": {
        "colab": {
          "base_uri": "https://localhost:8080/"
        },
        "id": "svYSgpgdhosj",
        "outputId": "0e6c41f1-1f16-4f18-89ee-27c4ed834453"
      },
      "execution_count": 17,
      "outputs": [
        {
          "output_type": "stream",
          "name": "stdout",
          "text": [
            "해리 포터, 현재점수: 0\n",
            "해리 포터에게 부여할 점수 입력: 3\n",
            "해리 포터, 현재점수: 3\n",
            "해리 포터에게 부여할 패널티점수 입력: 1\n",
            "아이언맨, 현재점수: 0\n",
            "아이언맨에게 부여할 점수 입력: 5\n",
            "아이언맨, 현재점수: 5\n",
            "아이언맨에게 부여할 패널티점수 입력: 0\n",
            "점수는 1점 이상 입력 가능합니다.\n",
            "잭 스패로우, 현재점수: 0\n",
            "잭 스패로우에게 부여할 점수 입력: 7\n",
            "잭 스패로우, 현재점수: 7\n",
            "잭 스패로우에게 부여할 패널티점수 입력: 3\n",
            "점수\n",
            "{'이름': '잭 스패로우', '학번': '2431202', '점수': 7, '페널티': 3, '총점': 4}\n",
            "{'이름': '아이언맨', '학번': '2431201', '점수': 5, '페널티': 0, '총점': 5}\n",
            "{'이름': '해리 포터', '학번': '2431200', '점수': 3, '페널티': 1, '총점': 2}\n",
            "페널티\n",
            "{'이름': '잭 스패로우', '학번': '2431202', '점수': 7, '페널티': 3, '총점': 4}\n",
            "{'이름': '해리 포터', '학번': '2431200', '점수': 3, '페널티': 1, '총점': 2}\n",
            "{'이름': '아이언맨', '학번': '2431201', '점수': 5, '페널티': 0, '총점': 5}\n",
            "총점\n",
            "{'이름': '아이언맨', '학번': '2431201', '점수': 5, '페널티': 0, '총점': 5}\n",
            "{'이름': '잭 스패로우', '학번': '2431202', '점수': 7, '페널티': 3, '총점': 4}\n",
            "{'이름': '해리 포터', '학번': '2431200', '점수': 3, '페널티': 1, '총점': 2}\n",
            "{'1팀': ['해리 포터', '아이언맨'], '2팀': ['잭 스패로우']}\n"
          ]
        }
      ]
    }
  ]
}