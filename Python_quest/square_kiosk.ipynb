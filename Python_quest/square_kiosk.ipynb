{
  "nbformat": 4,
  "nbformat_minor": 0,
  "metadata": {
    "colab": {
      "provenance": [],
      "authorship_tag": "ABX9TyOQPbIO25ScIfDfNB2+w6Ut",
      "include_colab_link": true
    },
    "kernelspec": {
      "name": "python3",
      "display_name": "Python 3"
    },
    "language_info": {
      "name": "python"
    }
  },
  "cells": [
    {
      "cell_type": "markdown",
      "metadata": {
        "id": "view-in-github",
        "colab_type": "text"
      },
      "source": [
        "<a href=\"https://colab.research.google.com/github/Sun970324/AIFFEL_quest/blob/main/Python_quest/square_kiosk.ipynb\" target=\"_parent\"><img src=\"https://colab.research.google.com/assets/colab-badge.svg\" alt=\"Open In Colab\"/></a>"
      ]
    },
    {
      "cell_type": "code",
      "execution_count": 9,
      "metadata": {
        "colab": {
          "base_uri": "https://localhost:8080/"
        },
        "id": "4Ybwh2e4LfMH",
        "outputId": "9cd725a7-3c7a-454d-fdde-82c52b56cc37"
      },
      "outputs": [
        {
          "output_type": "stream",
          "name": "stdout",
          "text": [
            "넓이를 구하고 싶은 사각형의 숫자를 써주세요.\n",
            " 1.직사각형 2.평행사변형 3.사다리꼴 \n",
            " >>>3\n",
            "사다리꼴 함수는 trape()입니다.\n",
            "밑변, 윗변, 높이를 입력하세요 예시 : 1,2,31,2,3\n",
            "사다리꼴의 넓이는 : 4.5\n"
          ]
        }
      ],
      "source": [
        "class Square:\n",
        "    def __init__(self):  # 생성자__init__의 매개변수의 첫번째는 self여야 합니다.\n",
        "        self.square = int(input('넓이를 구하고 싶은 사각형의 숫자를 써주세요.\\n 1.직사각형 2.평행사변형 3.사다리꼴 \\n >>>'))  # 입력값을 int로 묶어야 합니다.\n",
        "\n",
        "        if self.square == 1:\n",
        "            print('직사각형 함수는 rect()입니다.')  # Square 클래스에 rect() 메서드를 추가합니다.\n",
        "            print(self.rect())\n",
        "        elif self.square == 2:\n",
        "            print('평행사변형 함수는 par()입니다.')  # Square 클래스에 par() 메서드를 추가합니다.\n",
        "            print(self.par())\n",
        "        elif self.square == 3:\n",
        "            print('사다리꼴 함수는 trape()입니다.')  # Square 클래스에 trape() 메서드를 추가합니다.\n",
        "            print(self.trape())\n",
        "        else:\n",
        "            print('1, 2, 3 중에서 다시 입력해주세요')\n",
        "\n",
        "    def rect(self):  # 직사각형의 넓이를 구하는 메서드\n",
        "        width, vertical = map(int, input('가로, 세로를 입력하세요. 예시 : 가로,세로\\n >>>').split(','))  #가로, 세로를 입력받는 코드\n",
        "        area = width*vertical\n",
        "        result = f'직사각형의 넓이는 : {area}'\n",
        "        return result\n",
        "\n",
        "    # 평행사변형 메서드\n",
        "    def par(self):\n",
        "        width, vertical = map(int, input('밑변, 높이를 입력하세요. 예시 : 밑변,높이\\n >>>').split(','))\n",
        "        area = width * vertical\n",
        "        result = f'평행사변형의 넓이는 : {area}'\n",
        "        return result\n",
        "\n",
        "    # 사다리꼴 메서드\n",
        "    def trape(self):\n",
        "        upside, downside, height = map(int, input('밑변, 윗변, 높이를 입력하세요. 예시 : 1,2,3: ').split(','))\n",
        "        area = (upside + downside) * height/2\n",
        "        result = f'사다리꼴의 넓이는 : {area}'\n",
        "        return result\n",
        "\n",
        "a = Square()"
      ]
    },
    {
      "cell_type": "code",
      "source": [
        "menu = ['americano', 'latte', 'mocha', 'yuza_tea', 'green_tea', 'choco_latte']\n",
        "price = [2000, 3000, 3000, 2500, 2500, 3000]\n",
        "\n",
        "class Kiosk:\n",
        "    def __init__(self):\n",
        "        self.menu = menu\n",
        "        self.price = price\n",
        "        self.order_menus = []\n",
        "        self.order_price = []\n",
        "    # 메뉴 출력 메서드\n",
        "    def menu_print(self):\n",
        "        for i in range(len(self.menu)):\n",
        "            print(f\"{i+1}. {self.menu[i]}, {self.price[i]}원\")\n",
        "\n",
        "    # 주문 메서드\n",
        "    def menu_select(self):\n",
        "        temp_list = [\"ICE\", \"HOT\"]\n",
        "        while True:\n",
        "          try:\n",
        "            menu_num = int(input('메뉴 번호를 입력해주세요: '))\n",
        "            if menu_num > len(self.menu) or menu_num <= 0:\n",
        "              raise Exception()\n",
        "          except:\n",
        "            print('잘못된 입력입니다. 다시 입력해주세요.')\n",
        "          else:\n",
        "            temp = temp_list[0]\n",
        "            while True:\n",
        "              try:\n",
        "                temp_select = int(input(\"ICE('0'), HOT('1'): \"))\n",
        "                if temp_select != 0 and temp_select != 1:\n",
        "                  raise Exception()\n",
        "              except:\n",
        "                print('잘못된 입력입니다. 다시 입력해주세요.')\n",
        "              else:\n",
        "                temp = temp_list[temp_select]\n",
        "                break\n",
        "            selected_menu = f\"{temp} {self.menu[menu_num-1]}\"\n",
        "            self.order_menus.append(selected_menu)\n",
        "            self.order_price.append(self.price[menu_num-1])\n",
        "            print(f\"{selected_menu}, {self.price[menu_num-1]}원\")\n",
        "\n",
        "            while True:\n",
        "              try:\n",
        "                pay_or_order = int(input(\"계속 주문('0'), 지불('1'): \"))\n",
        "                if pay_or_order != 0 and pay_or_order != 1:\n",
        "                  raise Exception()\n",
        "              except:\n",
        "                print('잘못된 입력입니다. 다시 입력해주세요.')\n",
        "              else:\n",
        "                if pay_or_order == 0:\n",
        "                  break\n",
        "                else:\n",
        "                  return\n",
        "\n",
        "    # 지불\n",
        "    def pay(self):\n",
        "        print(f\"총 {len(self.order_menus)}건, {sum(self.order_price)}원\")\n",
        "        while True:\n",
        "          try:\n",
        "            payment = input(\"결제 방식을 선택해주세요. Cash('1') or Card('2') : \")\n",
        "            if payment != '1' and payment != '2':\n",
        "              raise Exception('다시 결제를 시도해 주세요.')\n",
        "          except Exception as e:\n",
        "            print(e)\n",
        "          else:\n",
        "            if payment == '1':\n",
        "              return print('직원을 호출하겠습니다.')\n",
        "            else:\n",
        "              return print('IC칩 방향에 맞게 카드를 꽂아주세요.')\n",
        "\n",
        "    # # 주문서 출력\n",
        "    def table(self):\n",
        "        print('⟝' + '-' * 30 + '⟞')\n",
        "        for i in range(5):\n",
        "          print('|' + ' ' * 31 + '|')\n",
        "\n",
        "        for i in range(len(self.order_menus)):\n",
        "          print(' ' * 5, self.order_menus[i], ' : ', self.order_price[i], '원')\n",
        "\n",
        "        print(' ' * 5, '합계 금액 :', sum(self.order_price), '원')\n",
        "\n",
        "        for i in range(5):\n",
        "          print('|' + ' ' * 31+ '|')\n",
        "        print('⟝' + '-' * 30 + '⟞')\n",
        "\n",
        "k = Kiosk()\n",
        "k.menu_print()\n",
        "k.menu_select()\n",
        "k.pay()\n",
        "k.table()"
      ],
      "metadata": {
        "colab": {
          "base_uri": "https://localhost:8080/"
        },
        "id": "MDOawZt7OgL1",
        "outputId": "f3a800e3-adfc-4bf1-ca0f-e88e9f16d20d"
      },
      "execution_count": 14,
      "outputs": [
        {
          "output_type": "stream",
          "name": "stdout",
          "text": [
            "1. americano, 2000원\n",
            "2. latte, 3000원\n",
            "3. mocha, 3000원\n",
            "4. yuza_tea, 2500원\n",
            "5. green_tea, 2500원\n",
            "6. choco_latte, 3000원\n",
            "메뉴 번호를 입력해주세요: 1\n",
            "ICE('0'), HOT('1'): 1\n",
            "HOT americano, 2000원\n",
            "계속 주문('0'), 지불('1'): 1\n",
            "총 1건, 2000원\n",
            "결제 방식을 선택해주세요. Cash('1') or Card('2') : 1\n",
            "직원을 호출하겠습니다.\n",
            "⟝------------------------------⟞\n",
            "|                               |\n",
            "|                               |\n",
            "|                               |\n",
            "|                               |\n",
            "|                               |\n",
            "      HOT americano  :  2000 원\n",
            "      합계 금액 : 2000 원\n",
            "|                               |\n",
            "|                               |\n",
            "|                               |\n",
            "|                               |\n",
            "|                               |\n",
            "⟝------------------------------⟞\n"
          ]
        }
      ]
    }
  ]
}