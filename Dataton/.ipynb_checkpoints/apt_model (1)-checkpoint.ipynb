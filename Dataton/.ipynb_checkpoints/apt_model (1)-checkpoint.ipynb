{
 "cells": [
  {
   "cell_type": "code",
   "execution_count": 1,
   "id": "5efd7f80",
   "metadata": {},
   "outputs": [],
   "source": [
    "import pandas as pd\n",
    "import numpy as np\n",
    "import matplotlib.pyplot as plt\n",
    "import seaborn as sns\n",
    "\n",
    "import warnings\n",
    "warnings.filterwarnings('ignore')"
   ]
  },
  {
   "cell_type": "code",
   "execution_count": 9,
   "id": "87f319c8",
   "metadata": {},
   "outputs": [
    {
     "data": {
      "text/html": [
       "<div>\n",
       "<style scoped>\n",
       "    .dataframe tbody tr th:only-of-type {\n",
       "        vertical-align: middle;\n",
       "    }\n",
       "\n",
       "    .dataframe tbody tr th {\n",
       "        vertical-align: top;\n",
       "    }\n",
       "\n",
       "    .dataframe thead th {\n",
       "        text-align: right;\n",
       "    }\n",
       "</style>\n",
       "<table border=\"1\" class=\"dataframe\">\n",
       "  <thead>\n",
       "    <tr style=\"text-align: right;\">\n",
       "      <th></th>\n",
       "      <th>시군구</th>\n",
       "      <th>전용면적(㎡)</th>\n",
       "      <th>계약년월</th>\n",
       "      <th>거래금액(만원)</th>\n",
       "      <th>층</th>\n",
       "      <th>건축년도</th>\n",
       "      <th>시군구_ID</th>\n",
       "      <th>주소</th>\n",
       "      <th>위도</th>\n",
       "      <th>경도</th>\n",
       "      <th>top10</th>\n",
       "      <th>Name</th>\n",
       "      <th>지하철거리</th>\n",
       "    </tr>\n",
       "  </thead>\n",
       "  <tbody>\n",
       "    <tr>\n",
       "      <th>0</th>\n",
       "      <td>서울특별시 용산구 한남동</td>\n",
       "      <td>268.670</td>\n",
       "      <td>2023</td>\n",
       "      <td>1800.00</td>\n",
       "      <td>4</td>\n",
       "      <td>2020</td>\n",
       "      <td>1</td>\n",
       "      <td>서울특별시 용산구 한남동 410</td>\n",
       "      <td>37.538220</td>\n",
       "      <td>127.007400</td>\n",
       "      <td>0</td>\n",
       "      <td>0</td>\n",
       "      <td>0.568282</td>\n",
       "    </tr>\n",
       "    <tr>\n",
       "      <th>1</th>\n",
       "      <td>서울특별시 강남구 청담동</td>\n",
       "      <td>273.960</td>\n",
       "      <td>2022</td>\n",
       "      <td>1450.00</td>\n",
       "      <td>16</td>\n",
       "      <td>2020</td>\n",
       "      <td>2</td>\n",
       "      <td>서울특별시 강남구 청담동 129</td>\n",
       "      <td>37.525754</td>\n",
       "      <td>127.052322</td>\n",
       "      <td>0</td>\n",
       "      <td>0</td>\n",
       "      <td>0.828782</td>\n",
       "    </tr>\n",
       "    <tr>\n",
       "      <th>2</th>\n",
       "      <td>서울특별시 용산구 한남동</td>\n",
       "      <td>268.670</td>\n",
       "      <td>2022</td>\n",
       "      <td>1350.00</td>\n",
       "      <td>5</td>\n",
       "      <td>2020</td>\n",
       "      <td>1</td>\n",
       "      <td>서울특별시 용산구 한남동 410</td>\n",
       "      <td>37.538220</td>\n",
       "      <td>127.007400</td>\n",
       "      <td>0</td>\n",
       "      <td>0</td>\n",
       "      <td>0.568282</td>\n",
       "    </tr>\n",
       "    <tr>\n",
       "      <th>3</th>\n",
       "      <td>서울특별시 성동구 성수동1가</td>\n",
       "      <td>264.546</td>\n",
       "      <td>2022</td>\n",
       "      <td>1300.00</td>\n",
       "      <td>47</td>\n",
       "      <td>2020</td>\n",
       "      <td>3</td>\n",
       "      <td>서울특별시 성동구 성수동1가 685-700</td>\n",
       "      <td>37.543500</td>\n",
       "      <td>127.037420</td>\n",
       "      <td>0</td>\n",
       "      <td>0</td>\n",
       "      <td>0.845895</td>\n",
       "    </tr>\n",
       "    <tr>\n",
       "      <th>4</th>\n",
       "      <td>서울특별시 용산구 한남동</td>\n",
       "      <td>268.950</td>\n",
       "      <td>2021</td>\n",
       "      <td>1200.00</td>\n",
       "      <td>2</td>\n",
       "      <td>2020</td>\n",
       "      <td>1</td>\n",
       "      <td>서울특별시 용산구 한남동 410</td>\n",
       "      <td>37.538220</td>\n",
       "      <td>127.007400</td>\n",
       "      <td>0</td>\n",
       "      <td>0</td>\n",
       "      <td>0.568282</td>\n",
       "    </tr>\n",
       "    <tr>\n",
       "      <th>...</th>\n",
       "      <td>...</td>\n",
       "      <td>...</td>\n",
       "      <td>...</td>\n",
       "      <td>...</td>\n",
       "      <td>...</td>\n",
       "      <td>...</td>\n",
       "      <td>...</td>\n",
       "      <td>...</td>\n",
       "      <td>...</td>\n",
       "      <td>...</td>\n",
       "      <td>...</td>\n",
       "      <td>...</td>\n",
       "      <td>...</td>\n",
       "    </tr>\n",
       "    <tr>\n",
       "      <th>177445</th>\n",
       "      <td>부산광역시 중구 보수동1가</td>\n",
       "      <td>36.360</td>\n",
       "      <td>2022</td>\n",
       "      <td>2.00</td>\n",
       "      <td>4</td>\n",
       "      <td>1969</td>\n",
       "      <td>424</td>\n",
       "      <td>부산광역시 중구 보수동1가 산3-148</td>\n",
       "      <td>35.107390</td>\n",
       "      <td>129.026825</td>\n",
       "      <td>0</td>\n",
       "      <td>0</td>\n",
       "      <td>0.862988</td>\n",
       "    </tr>\n",
       "    <tr>\n",
       "      <th>177446</th>\n",
       "      <td>부산광역시 중구 보수동1가</td>\n",
       "      <td>36.360</td>\n",
       "      <td>2021</td>\n",
       "      <td>1.75</td>\n",
       "      <td>2</td>\n",
       "      <td>1969</td>\n",
       "      <td>424</td>\n",
       "      <td>부산광역시 중구 보수동1가 산3-148</td>\n",
       "      <td>35.107390</td>\n",
       "      <td>129.026825</td>\n",
       "      <td>0</td>\n",
       "      <td>0</td>\n",
       "      <td>0.862988</td>\n",
       "    </tr>\n",
       "    <tr>\n",
       "      <th>177447</th>\n",
       "      <td>부산광역시 중구 보수동1가</td>\n",
       "      <td>36.360</td>\n",
       "      <td>2021</td>\n",
       "      <td>1.70</td>\n",
       "      <td>2</td>\n",
       "      <td>1969</td>\n",
       "      <td>424</td>\n",
       "      <td>부산광역시 중구 보수동1가 산3-148</td>\n",
       "      <td>35.107390</td>\n",
       "      <td>129.026825</td>\n",
       "      <td>0</td>\n",
       "      <td>0</td>\n",
       "      <td>0.862988</td>\n",
       "    </tr>\n",
       "    <tr>\n",
       "      <th>177448</th>\n",
       "      <td>부산광역시 중구 보수동1가</td>\n",
       "      <td>36.360</td>\n",
       "      <td>2021</td>\n",
       "      <td>1.20</td>\n",
       "      <td>4</td>\n",
       "      <td>1969</td>\n",
       "      <td>424</td>\n",
       "      <td>부산광역시 중구 보수동1가 산3-148</td>\n",
       "      <td>35.107390</td>\n",
       "      <td>129.026825</td>\n",
       "      <td>0</td>\n",
       "      <td>0</td>\n",
       "      <td>0.862988</td>\n",
       "    </tr>\n",
       "    <tr>\n",
       "      <th>177449</th>\n",
       "      <td>부산광역시 영도구 봉래동2가</td>\n",
       "      <td>9.260</td>\n",
       "      <td>2022</td>\n",
       "      <td>1.00</td>\n",
       "      <td>3</td>\n",
       "      <td>1972</td>\n",
       "      <td>345</td>\n",
       "      <td>부산광역시 영도구 봉래동2가 36-3</td>\n",
       "      <td>35.093500</td>\n",
       "      <td>129.042190</td>\n",
       "      <td>0</td>\n",
       "      <td>0</td>\n",
       "      <td>0.846383</td>\n",
       "    </tr>\n",
       "  </tbody>\n",
       "</table>\n",
       "<p>177450 rows × 13 columns</p>\n",
       "</div>"
      ],
      "text/plain": [
       "                    시군구  전용면적(㎡)  계약년월  거래금액(만원)   층  건축년도  시군구_ID  \\\n",
       "0         서울특별시 용산구 한남동  268.670  2023   1800.00   4  2020       1   \n",
       "1         서울특별시 강남구 청담동  273.960  2022   1450.00  16  2020       2   \n",
       "2         서울특별시 용산구 한남동  268.670  2022   1350.00   5  2020       1   \n",
       "3       서울특별시 성동구 성수동1가  264.546  2022   1300.00  47  2020       3   \n",
       "4         서울특별시 용산구 한남동  268.950  2021   1200.00   2  2020       1   \n",
       "...                 ...      ...   ...       ...  ..   ...     ...   \n",
       "177445   부산광역시 중구 보수동1가   36.360  2022      2.00   4  1969     424   \n",
       "177446   부산광역시 중구 보수동1가   36.360  2021      1.75   2  1969     424   \n",
       "177447   부산광역시 중구 보수동1가   36.360  2021      1.70   2  1969     424   \n",
       "177448   부산광역시 중구 보수동1가   36.360  2021      1.20   4  1969     424   \n",
       "177449  부산광역시 영도구 봉래동2가    9.260  2022      1.00   3  1972     345   \n",
       "\n",
       "                             주소         위도          경도  top10  Name     지하철거리  \n",
       "0             서울특별시 용산구 한남동 410  37.538220  127.007400      0     0  0.568282  \n",
       "1             서울특별시 강남구 청담동 129  37.525754  127.052322      0     0  0.828782  \n",
       "2             서울특별시 용산구 한남동 410  37.538220  127.007400      0     0  0.568282  \n",
       "3       서울특별시 성동구 성수동1가 685-700  37.543500  127.037420      0     0  0.845895  \n",
       "4             서울특별시 용산구 한남동 410  37.538220  127.007400      0     0  0.568282  \n",
       "...                         ...        ...         ...    ...   ...       ...  \n",
       "177445    부산광역시 중구 보수동1가 산3-148  35.107390  129.026825      0     0  0.862988  \n",
       "177446    부산광역시 중구 보수동1가 산3-148  35.107390  129.026825      0     0  0.862988  \n",
       "177447    부산광역시 중구 보수동1가 산3-148  35.107390  129.026825      0     0  0.862988  \n",
       "177448    부산광역시 중구 보수동1가 산3-148  35.107390  129.026825      0     0  0.862988  \n",
       "177449     부산광역시 영도구 봉래동2가 36-3  35.093500  129.042190      0     0  0.846383  \n",
       "\n",
       "[177450 rows x 13 columns]"
      ]
     },
     "execution_count": 9,
     "metadata": {},
     "output_type": "execute_result"
    }
   ],
   "source": [
    "datapath = './final_data.csv'\n",
    "df = pd.read_csv(datapath)\n",
    "df.drop('Unnamed: 0', inplace=True, axis=1)\n",
    "df"
   ]
  },
  {
   "cell_type": "code",
   "execution_count": 33,
   "id": "650312f2",
   "metadata": {},
   "outputs": [
    {
     "data": {
      "text/html": [
       "<div>\n",
       "<style scoped>\n",
       "    .dataframe tbody tr th:only-of-type {\n",
       "        vertical-align: middle;\n",
       "    }\n",
       "\n",
       "    .dataframe tbody tr th {\n",
       "        vertical-align: top;\n",
       "    }\n",
       "\n",
       "    .dataframe thead th {\n",
       "        text-align: right;\n",
       "    }\n",
       "</style>\n",
       "<table border=\"1\" class=\"dataframe\">\n",
       "  <thead>\n",
       "    <tr style=\"text-align: right;\">\n",
       "      <th></th>\n",
       "      <th>시군구</th>\n",
       "      <th>시군구_ID</th>\n",
       "    </tr>\n",
       "  </thead>\n",
       "  <tbody>\n",
       "    <tr>\n",
       "      <th>0</th>\n",
       "      <td>서울특별시 용산구 한남동</td>\n",
       "      <td>1</td>\n",
       "    </tr>\n",
       "  </tbody>\n",
       "</table>\n",
       "</div>"
      ],
      "text/plain": [
       "             시군구  시군구_ID\n",
       "0  서울특별시 용산구 한남동       1"
      ]
     },
     "execution_count": 33,
     "metadata": {},
     "output_type": "execute_result"
    }
   ],
   "source": [
    "df.loc[[0],['시군구', '시군구_ID']]"
   ]
  },
  {
   "cell_type": "code",
   "execution_count": 5,
   "id": "9573d4fe",
   "metadata": {},
   "outputs": [
    {
     "data": {
      "image/png": "[encoded data removed]",
      "text/plain": [
       "<Figure size 720x360 with 1 Axes>"
      ]
     },
     "metadata": {
      "needs_background": "light"
     },
     "output_type": "display_data"
    }
   ],
   "source": [
    "plt.figure(figsize=(10, 5))\n",
    "plt.hist(df['거래금액(만원)'], bins=50, edgecolor='k', alpha=0.7)\n",
    "plt.title('Distribution of Amount')\n",
    "plt.xlabel('Amount')\n",
    "plt.ylabel('Frequency')\n",
    "plt.show()"
   ]
  },
  {
   "cell_type": "code",
   "execution_count": 6,
   "id": "822ce787",
   "metadata": {},
   "outputs": [
    {
     "data": {
      "image/png": "[encoded data removed]",
      "text/plain": [
       "<Figure size 720x360 with 1 Axes>"
      ]
     },
     "metadata": {
      "needs_background": "light"
     },
     "output_type": "display_data"
    }
   ],
   "source": [
    "plt.figure(figsize=(10, 5))\n",
    "plt.boxplot(df['거래금액(만원)'], vert=False)\n",
    "plt.title('Distribution of Amount')\n",
    "plt.xlabel('Amount')\n",
    "plt.ylabel('Frequency')\n",
    "plt.show()"
   ]
  },
  {
   "cell_type": "code",
   "execution_count": 25,
   "id": "93a68a44",
   "metadata": {},
   "outputs": [
    {
     "data": {
      "text/plain": [
       "시군구               부산광역시 수영구 남천동\n",
       "전용면적(㎡)                   84.83\n",
       "계약년월                       2022\n",
       "거래금액(만원)                  145.0\n",
       "층                             3\n",
       "건축년도                       1979\n",
       "시군구_ID                       59\n",
       "주소          부산광역시 수영구 남천동 148-4\n",
       "위도                    35.144679\n",
       "경도                   129.110088\n",
       "top10                         0\n",
       "Name                          1\n",
       "지하철거리                  0.085039\n",
       "Name: 92180, dtype: object"
      ]
     },
     "execution_count": 25,
     "metadata": {},
     "output_type": "execute_result"
    }
   ],
   "source": [
    "df.sort_values('지하철거리').iloc[1000]"
   ]
  },
  {
   "cell_type": "code",
   "execution_count": 43,
   "id": "4bcd7198",
   "metadata": {},
   "outputs": [
    {
     "data": {
      "text/plain": [
       "array([268, 273, 264, 234, 240, 241, 198, 301, 228, 235, 206, 217, 244,\n",
       "       269, 225, 218, 208, 265, 222, 233, 196, 245, 243, 226, 140, 195,\n",
       "       216, 210, 183, 129, 224, 159, 200, 181, 152, 160, 168, 156, 178,\n",
       "       165, 169, 175, 170, 155, 194, 182, 171, 213, 145, 197, 223, 202,\n",
       "       107, 131, 167, 157, 176, 116, 164, 166, 177, 237, 212, 135, 252,\n",
       "       185, 242, 112, 192, 174, 106, 163, 153, 117, 161, 151, 180, 203,\n",
       "       147, 124, 144, 190, 189, 191, 158, 115, 121, 184, 137, 231, 239,\n",
       "       108, 134, 130, 114, 211, 205, 132, 214, 139, 104, 101, 136,  84,\n",
       "       227, 143, 149, 154, 270, 119, 120, 207,  98, 238, 150, 126, 219,\n",
       "       110, 138,  78, 232, 125, 111, 133, 236,  82, 127, 221, 128, 162,\n",
       "       148,  94, 186,  89, 246,  99, 118, 141, 204,  87, 172, 220,  95,\n",
       "        72, 105,  41, 102, 100,  91,  90, 146, 173, 103, 209, 187,  97,\n",
       "       123, 201,  93, 113,  96, 109, 266,  74, 122,  92, 142,  63,  59,\n",
       "        71, 256, 199,  76,  83, 193,  81, 179,  79,  80, 188,  73, 257,\n",
       "       258, 267,  75, 229,  49,  69,  70,  85, 215,  86,  77,  68, 272,\n",
       "       309,  52,  53, 255,  88,  66,  54, 230,  60,  61,  55, 250,  58,\n",
       "        65,  67,  64, 317,  51,  56,  62,  50,  57,  35,  45,  40,  47,\n",
       "        48, 261,  39,  42,  31,  27,  33,  43,  30,  46,  25,  34,  28,\n",
       "        26,  37,  29,  44,  23,  38,  15,  14,  18,  21,  36,  32,  22,\n",
       "        19,  16,  11,  10,  20,  24,  17,  13,  12, 285, 294,   9])"
      ]
     },
     "execution_count": 43,
     "metadata": {},
     "output_type": "execute_result"
    }
   ],
   "source": [
    "df['전용면적(㎡)'] = df['전용면적(㎡)'].apply(np.floor)\n",
    "df['전용면적(㎡)'] = df['전용면적(㎡)'].astype(int)"
   ]
  },
  {
   "cell_type": "code",
   "execution_count": 45,
   "id": "96142088",
   "metadata": {},
   "outputs": [
    {
     "data": {
      "text/plain": [
       "count    177450.000000\n",
       "mean         72.222350\n",
       "std          29.425626\n",
       "min           9.000000\n",
       "25%          59.000000\n",
       "50%          70.000000\n",
       "75%          84.000000\n",
       "max         317.000000\n",
       "Name: 전용면적(㎡), dtype: float64"
      ]
     },
     "execution_count": 45,
     "metadata": {},
     "output_type": "execute_result"
    }
   ],
   "source": [
    "df['전용면적(㎡)'].describe()"
   ]
  },
  {
   "cell_type": "code",
   "execution_count": 49,
   "id": "8d3d0142",
   "metadata": {},
   "outputs": [
    {
     "data": {
      "image/png": "[encoded data removed]",
      "text/plain": [
       "<Figure size 720x360 with 1 Axes>"
      ]
     },
     "metadata": {
      "needs_background": "light"
     },
     "output_type": "display_data"
    }
   ],
   "source": [
    "plt.figure(figsize=(10, 5))\n",
    "plt.hist(df['전용면적(㎡)'], bins=50, edgecolor='k', alpha=0.7)\n",
    "plt.title('m2')\n",
    "plt.xlabel('Amount')\n",
    "plt.ylabel('Frequency')\n",
    "plt.show()"
   ]
  }
 ],
 "metadata": {
  "kernelspec": {
   "display_name": "Python 3 (ipykernel)",
   "language": "python",
   "name": "python3"
  },
  "language_info": {
   "codemirror_mode": {
    "name": "ipython",
    "version": 3
   },
   "file_extension": ".py",
   "mimetype": "text/x-python",
   "name": "python",
   "nbconvert_exporter": "python",
   "pygments_lexer": "ipython3",
   "version": "3.9.7"
  }
 },
 "nbformat": 4,
 "nbformat_minor": 5
}
